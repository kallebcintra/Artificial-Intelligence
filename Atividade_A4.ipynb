{
  "nbformat": 4,
  "nbformat_minor": 0,
  "metadata": {
    "colab": {
      "provenance": [],
      "include_colab_link": true
    },
    "kernelspec": {
      "name": "python3",
      "display_name": "Python 3"
    },
    "language_info": {
      "name": "python"
    }
  },
  "cells": [
    {
      "cell_type": "markdown",
      "metadata": {
        "id": "view-in-github",
        "colab_type": "text"
      },
      "source": [
        "<a href=\"https://colab.research.google.com/github/kallebcintra/Artificial-Intelligence/blob/main/Atividade_A4.ipynb\" target=\"_parent\"><img src=\"https://colab.research.google.com/assets/colab-badge.svg\" alt=\"Open In Colab\"/></a>"
      ]
    },
    {
      "cell_type": "markdown",
      "source": [
        "# Sudoku\n",
        "\n",
        "A seguir temos uma implementação para o famoso jogo Sudoku.\n",
        "\n",
        "Nessa implementação, cada casa do tabuleiro é representada como uma combinação de uma letra (A, B, C, ..., I) e um número (1, 2, 3, ..., 9) conforme ilustrado na figura a seguir:"
      ],
      "metadata": {
        "id": "8WGuSS6yn5ZS"
      }
    },
    {
      "cell_type": "markdown",
      "source": [
        "![image.png](data:image/png;base64,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)"
      ],
      "metadata": {
        "id": "3MR5-kHtpC-Z"
      }
    },
    {
      "cell_type": "code",
      "execution_count": null,
      "metadata": {
        "colab": {
          "base_uri": "https://localhost:8080/"
        },
        "id": "H6Y4lnZOj83M",
        "outputId": "08026510-000c-49bb-b926-71af71111e4e"
      },
      "outputs": [
        {
          "output_type": "stream",
          "name": "stdout",
          "text": [
            "[A1, A2, A3, ... , I7, I8, I9]\n"
          ]
        }
      ],
      "source": [
        "rows = 'ABCDEFGHI'\n",
        "cols = '123456789'\n",
        "\n",
        "def cross(a, b):\n",
        "    return [s+t for s in a for t in b]\n",
        "\n",
        "boxes = cross(rows, cols)\n",
        "print(f'[{boxes[0]}, {boxes[1]}, {boxes[2]}, ... , {boxes[-3]}, {boxes[-2]}, {boxes[-1]}]')"
      ]
    },
    {
      "cell_type": "markdown",
      "source": [
        "Para representar o tabuleiro, são utilizadas duas formas:\n",
        "\n",
        "  - *grid_str*: representação em string para o estado inicial do tabuleiro, em que as casas estão dispostas em sequência (\"[A1][A2]...[A9][B1][B2]...[B9]...[I9]\") com as casas vazias sendo representadas com um ponto e as preenchidas com os seus próprios valores;\n",
        "  - *grid_dict*: representação em dicionário em que as chaves são as casas e os valores são pontos para casas vazias ou dígitos de 1 a 9 para casas preenchidas.\n",
        "\n",
        "A seguir, temos um tabuleiro e suas respectivas representações exemplificando o proposto acima:"
      ],
      "metadata": {
        "id": "AOIjmxk578jN"
      }
    },
    {
      "cell_type": "code",
      "source": [
        "grid_str = \"4.....8.5.3..........7......2.....6.....8.4......1.......6.3.7.5..2.....1.4......\"\n",
        "grid_dict = dict(zip(boxes, grid_str))"
      ],
      "metadata": {
        "id": "SehPMgiB_VTw"
      },
      "execution_count": null,
      "outputs": []
    },
    {
      "cell_type": "code",
      "source": [
        "def display(grid_dict):\n",
        "    \"\"\"\n",
        "    Display the values as a 2-D grid.\n",
        "    Input: The sudoku in dictionary form\n",
        "    Output: None\n",
        "    \"\"\"\n",
        "    width = 1+max(len(grid_dict[s]) for s in boxes)\n",
        "    line = '+'.join(['-'*(width*3 + 1)]*3)\n",
        "    for r in rows:\n",
        "        print('', ''.join(grid_dict[r+c].center(width)+('| ' if c in '36' else '')\n",
        "                      for c in cols))\n",
        "        if r in 'CF': print(line)\n",
        "\n",
        "display(grid_dict)"
      ],
      "metadata": {
        "colab": {
          "base_uri": "https://localhost:8080/"
        },
        "id": "vrw2AubZAgHw",
        "outputId": "0fff27cd-0802-490b-b78c-538fdcf0aad8"
      },
      "execution_count": null,
      "outputs": [
        {
          "output_type": "stream",
          "name": "stdout",
          "text": [
            " 4 . . | . . . | 8 . 5 \n",
            " . 3 . | . . . | . . . \n",
            " . . . | 7 . . | . . . \n",
            "-------+-------+-------\n",
            " . 2 . | . . . | . 6 . \n",
            " . . . | . 8 . | 4 . . \n",
            " . . . | . 1 . | . . . \n",
            "-------+-------+-------\n",
            " . . . | 6 . 3 | . 7 . \n",
            " 5 . . | 2 . . | . . . \n",
            " 1 . 4 | . . . | . . . \n"
          ]
        }
      ]
    },
    {
      "cell_type": "markdown",
      "source": [
        "A partir dessa representação, são definidas listas de 9 casas que precisam obedecer às regras do jogo, ou seja, uma lista para cada linha do tabuleiro, uma para cada coluna e uma para cada quadrado pontilhado ilulstrado na figura anterior. Cada uma dessas listas é chamada aqui de *unit*."
      ],
      "metadata": {
        "id": "jqE8ioddpXVA"
      }
    },
    {
      "cell_type": "code",
      "source": [
        "row_units = [cross(r, cols) for r in rows]\n",
        "column_units = [cross(rows, c) for c in cols]\n",
        "square_units = [cross(rs, cs) for rs in ('ABC','DEF','GHI') for cs in ('123','456','789')]\n",
        "\n",
        "unitlist = row_units + column_units + square_units\n",
        "\n",
        "print(row_units[0], column_units[0], square_units[0], sep='\\n')"
      ],
      "metadata": {
        "colab": {
          "base_uri": "https://localhost:8080/"
        },
        "id": "WdZ8I3sSsUlp",
        "outputId": "4bf931e1-41e6-4286-d856-1cba36694f9a"
      },
      "execution_count": null,
      "outputs": [
        {
          "output_type": "stream",
          "name": "stdout",
          "text": [
            "['A1', 'A2', 'A3', 'A4', 'A5', 'A6', 'A7', 'A8', 'A9']\n",
            "['A1', 'B1', 'C1', 'D1', 'E1', 'F1', 'G1', 'H1', 'I1']\n",
            "['A1', 'A2', 'A3', 'B1', 'B2', 'B3', 'C1', 'C2', 'C3']\n"
          ]
        }
      ]
    },
    {
      "cell_type": "markdown",
      "source": [
        "Essa representação nos permite modelar o jogo como um *Factor Graph* em que cada casa é uma variável e as regras do jogo definem os fatores que relacionam essas variáveis. Com esse modelo em mente, são definidos os dicionários *units* e *peers*:\n",
        "\n",
        "  - *units*: dicionário em que as chaves são as casas do tabuleiro e os valores são as listas às quais cada casa pertence;\n",
        "  - *peers*: dicionário em que as chaves são as casas do tabuleiro e os valores são um conjunto (sem repetição) com todas as casas que são consideradas vizinhas da casa chave avaliada.\n",
        "\n",
        "A figura a seguir ilustra esses conceitos para a casa C2:"
      ],
      "metadata": {
        "id": "_fkJpXaQwaZY"
      }
    },
    {
      "cell_type": "markdown",
      "source": [
        "![image.png](data:image/png;base64,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)"
      ],
      "metadata": {
        "id": "G3C-pQHh00Jv"
      }
    },
    {
      "cell_type": "markdown",
      "source": [
        "## Exercício 1: Representando os fatores"
      ],
      "metadata": {
        "id": "mGoUpFw_5FNF"
      }
    },
    {
      "cell_type": "markdown",
      "source": [
        "Implemente um código que gera os dicionários *units* e *peers*.\n",
        "\n",
        "Exemplo:\n",
        "\n",
        "*units*:\n",
        "```\n",
        "In:  print(units['C2'])\n",
        "=============================================================================================================================================================================\n",
        "Out: [['C1', 'C2', 'C3', 'C4', 'C5', 'C6', 'C7', 'C8', 'C9'], ['A2', 'B2', 'C2', 'D2', 'E2', 'F2', 'G2', 'H2', 'I2'], ['A1', 'A2', 'A3', 'B1', 'B2', 'B3', 'C1', 'C2', 'C3']]\n",
        "```\n",
        "\n",
        "*peers*:\n",
        "```\n",
        "In:  print(peers['C2'])\n",
        "=============================================================================================================================\n",
        "Out: {'C8', 'B2', 'C1', 'E2', 'C5', 'H2', 'G2', 'C6', 'D2', 'C9', 'A2', 'C7', 'B1', 'C3', 'A3', 'F2', 'C4', 'A1', 'B3', 'I2'}\n",
        "```\n"
      ],
      "metadata": {
        "id": "gPYpNIY5PWPm"
      }
    },
    {
      "cell_type": "code",
      "source": [
        "units = dict((cell, [unit for unit in unitlist if cell in unit]) for cell in boxes)\n",
        "peers = dict((cell, set(sum(units[cell],[]))-set([cell]))for cell in boxes)\n",
        "print(units['C2'])\n",
        "print(peers['C2'])"
      ],
      "metadata": {
        "id": "vWBAevgLqiXf",
        "colab": {
          "base_uri": "https://localhost:8080/"
        },
        "outputId": "b2ad99d0-db9f-4e8b-e88a-8ad2fbb8ebfb"
      },
      "execution_count": null,
      "outputs": [
        {
          "output_type": "stream",
          "name": "stdout",
          "text": [
            "[['C1', 'C2', 'C3', 'C4', 'C5', 'C6', 'C7', 'C8', 'C9'], ['A2', 'B2', 'C2', 'D2', 'E2', 'F2', 'G2', 'H2', 'I2'], ['A1', 'A2', 'A3', 'B1', 'B2', 'B3', 'C1', 'C2', 'C3']]\n",
            "{'C9', 'D2', 'H2', 'B1', 'I2', 'C4', 'C7', 'C6', 'F2', 'C1', 'C8', 'C5', 'E2', 'B2', 'A1', 'C3', 'B3', 'A3', 'A2', 'G2'}\n"
          ]
        }
      ]
    },
    {
      "cell_type": "markdown",
      "source": [
        "## Exercício 2: Representando as variáveis e seus domínios\n",
        "\n"
      ],
      "metadata": {
        "id": "7-HbaGZe17GA"
      }
    },
    {
      "cell_type": "markdown",
      "source": [
        "Implemente a função *grid_values* que recebe como input o tabuleiro inicial em formato *grid_str* e retorna um dicionário *values* em que as chaves são as casas e os valores são os domínios, isto é, os conjuntos de valores possíveis para cada casa.\n",
        "\n",
        "Exemplo:\n",
        "\n",
        "```\n",
        "In:  values = grid_values(grid_str)\n",
        "     display(values)\n",
        "===============================================================================================\n",
        "Out:\n",
        "     4     123456789 123456789 | 123456789 123456789 123456789 |     8     123456789     5     \n",
        " 123456789     3     123456789 | 123456789 123456789 123456789 | 123456789 123456789 123456789\n",
        " 123456789 123456789 123456789 |     7     123456789 123456789 | 123456789 123456789 123456789\n",
        "-------------------------------+-------------------------------+-------------------------------\n",
        " 123456789     2     123456789 | 123456789 123456789 123456789 | 123456789     6     123456789\n",
        " 123456789 123456789 123456789 | 123456789     8     123456789 |     4     123456789 123456789\n",
        " 123456789 123456789 123456789 | 123456789     1     123456789 | 123456789 123456789 123456789\n",
        "-------------------------------+-------------------------------+-------------------------------\n",
        " 123456789 123456789 123456789 |     6     123456789     3     | 123456789     7     123456789\n",
        "     5     123456789 123456789 |     2     123456789 123456789 | 123456789 123456789 123456789\n",
        "     1     123456789     4     | 123456789 123456789 123456789 | 123456789 123456789 123456789\n",
        "```"
      ],
      "metadata": {
        "id": "L4XD2VOMPbyF"
      }
    },
    {
      "cell_type": "code",
      "source": [
        "def grid_values(grid):\n",
        "    #lista que armazena os caracteres presentes na grid e os possíveis caso for vazio\n",
        "    chars = [c if c in '123456789' else '123456789' for c in grid]\n",
        "    return dict(zip(boxes, chars))\n"
      ],
      "metadata": {
        "id": "px7U-IflkEBU"
      },
      "execution_count": null,
      "outputs": []
    },
    {
      "cell_type": "code",
      "source": [
        "values = grid_values(grid_str)\n",
        "#print(values)\n",
        "display(values)"
      ],
      "metadata": {
        "colab": {
          "base_uri": "https://localhost:8080/"
        },
        "id": "-9w61kU6sl2G",
        "outputId": "e927f061-fc57-49c6-b100-b8d87a06918b"
      },
      "execution_count": null,
      "outputs": [
        {
          "output_type": "stream",
          "name": "stdout",
          "text": [
            "     4     123456789 123456789 | 123456789 123456789 123456789 |     8     123456789     5     \n",
            " 123456789     3     123456789 | 123456789 123456789 123456789 | 123456789 123456789 123456789 \n",
            " 123456789 123456789 123456789 |     7     123456789 123456789 | 123456789 123456789 123456789 \n",
            "-------------------------------+-------------------------------+-------------------------------\n",
            " 123456789     2     123456789 | 123456789 123456789 123456789 | 123456789     6     123456789 \n",
            " 123456789 123456789 123456789 | 123456789     8     123456789 |     4     123456789 123456789 \n",
            " 123456789 123456789 123456789 | 123456789     1     123456789 | 123456789 123456789 123456789 \n",
            "-------------------------------+-------------------------------+-------------------------------\n",
            " 123456789 123456789 123456789 |     6     123456789     3     | 123456789     7     123456789 \n",
            "     5     123456789 123456789 |     2     123456789 123456789 | 123456789 123456789 123456789 \n",
            "     1     123456789     4     | 123456789 123456789 123456789 | 123456789 123456789 123456789 \n"
          ]
        }
      ]
    },
    {
      "cell_type": "markdown",
      "source": [
        "## Exercício 3: Backtracking"
      ],
      "metadata": {
        "id": "Y8sZuI2nHjY_"
      }
    },
    {
      "cell_type": "markdown",
      "source": [
        "A função *search* implementa o algoritmo de busca por backtracking para solução de factor graphs apresentado em aula. Implemente as funções a seguir para que o algoritmo funcione corretamente:\n",
        "\n",
        "  - *is_solved*: recebe como input um dicionário *values* e retorna uma booleana indicando se o tabuleiro está resolvido;\n",
        "  - *random_choice*: recebe como input um dicionário *values* e retorna uma casa não preenchida aleatória do tabuleiro;\n",
        "  - *fixed_order*: recebe como input um domínio e retorna um iterador dos valores desse domínio em uma ordem fixa qualquer (dica: retornar na mesma ordem que recebeu é uma solução válida);\n",
        "  - *get_partial_weight*: recebe como input um dicionário *values* e retorna o peso parcial resultante dos valores das casas preenchidas e seus respectivos fatores;\n",
        "  - *eliminate*: recebe como input um dicionário *values* e retorna esse dicionário com os domínios atualizados utilizando a estratégia de eliminação, isto é:\n",
        "    \"Se uma casa só tem um único possível valor em seu domínio, elimina esse valor dos domínios dos seus vizinhos (peers).\"\n",
        "  - *has_empty_domain*: recebe um dicionário *values* e retorna uma booleana indicando se alguma casa no tabuleiro não tem mais possibilidades de valores em seu domínio."
      ],
      "metadata": {
        "id": "jivLVmcEPrrJ"
      }
    },
    {
      "cell_type": "code",
      "source": [
        "import random\n",
        "\n",
        "def is_solved(values):\n",
        "    for unit in unitlist:\n",
        "        unit_values = set(values[s] for s in unit)\n",
        "        if unit_values != set(cols):\n",
        "            return False\n",
        "    return True\n",
        "\n",
        "def get_cells_nao_preenchidas(values):\n",
        "  return [cell for cell, value in values.items() if len(value) > 1]\n",
        "\n",
        "def random_choice(values):\n",
        "    cells_nao_preenchidas = get_cells_nao_preenchidas(values)\n",
        "    if cells_nao_preenchidas:\n",
        "        return random.choice(cells_nao_preenchidas)\n",
        "    else:\n",
        "        return None\n",
        "\n",
        "def fixed_order(values, box):\n",
        "    return iter(values[box])\n",
        "\n",
        "#Se a cell tem valor igual ao de algum dos seus peers, o peso parcial é 0, e a cell precisa ser trocada\n",
        "def get_partial_weight(values):\n",
        "    cells_preenchidas = {cell: value for cell, value in values.items() if len(value) == 1}\n",
        "    for cell, value in cells_preenchidas.items():\n",
        "      for peer in peers[cell]:\n",
        "          if peer in cells_preenchidas and value in cells_preenchidas[peer]:\n",
        "            return 0\n",
        "    return 1\n",
        "\n",
        "def eliminate(values):\n",
        "    for cell, value in values.items():\n",
        "        if len(value) == 1:\n",
        "            for peer in peers[cell]:\n",
        "                values[peer] = values[peer].replace(value, '')\n",
        "    return values\n",
        "\n",
        "def has_empty_domain(values):\n",
        "    for value in values.values():\n",
        "        if len(value) == 0:\n",
        "            return True\n",
        "    return False\n",
        "\n",
        "def search(values,\n",
        "           choose_variable=random_choice,\n",
        "           sort_domain=fixed_order,\n",
        "           lookahead=eliminate):\n",
        "    if is_solved(values):\n",
        "        return values\n",
        "    # Escolher um dos dominios não preeenchidos\n",
        "    k = choose_variable(values)\n",
        "    sorted_domain = sort_domain(values,k)\n",
        "    #Usando recorrência para solucionar os sudokus\n",
        "    for v in sorted_domain:\n",
        "        new_values = values.copy()\n",
        "        new_values[k] = v\n",
        "        delta = get_partial_weight(new_values)\n",
        "        if delta == 0: continue\n",
        "        new_values = lookahead(new_values)\n",
        "        if has_empty_domain(new_values): continue\n",
        "        solution = search(new_values, choose_variable, sort_domain, lookahead)\n",
        "        if solution: return solution"
      ],
      "metadata": {
        "id": "bepR8Vp40_u4"
      },
      "execution_count": null,
      "outputs": []
    },
    {
      "cell_type": "code",
      "source": [
        "#tabuleiro fácil\n",
        "grid_str = '..3.2.6..9..3.5..1..18.64....81.29..7.......8..67.82....26.95..8..2.3..9..5.1.3..'\n",
        "values = grid_values(grid_str)\n",
        "solution = search(values)\n",
        "if solution: display(solution)"
      ],
      "metadata": {
        "colab": {
          "base_uri": "https://localhost:8080/"
        },
        "id": "WhnKpU4616X-",
        "outputId": "0bb220d9-0b7f-46a5-f754-d0f1a1c58729"
      },
      "execution_count": null,
      "outputs": [
        {
          "output_type": "stream",
          "name": "stdout",
          "text": [
            " 4 8 3 | 9 2 1 | 6 5 7 \n",
            " 9 6 7 | 3 4 5 | 8 2 1 \n",
            " 2 5 1 | 8 7 6 | 4 9 3 \n",
            "-------+-------+-------\n",
            " 5 4 8 | 1 3 2 | 9 7 6 \n",
            " 7 2 9 | 5 6 4 | 1 3 8 \n",
            " 1 3 6 | 7 9 8 | 2 4 5 \n",
            "-------+-------+-------\n",
            " 3 7 2 | 6 8 9 | 5 1 4 \n",
            " 8 1 4 | 2 5 3 | 7 6 9 \n",
            " 6 9 5 | 4 1 7 | 3 8 2 \n"
          ]
        }
      ]
    },
    {
      "cell_type": "code",
      "source": [
        "#tabuleiro difícil\n",
        "grid_str = \"4.....8.5.3..........7......2.....6.....8.4......1.......6.3.7.5..2.....1.4......\"\n",
        "values = grid_values(grid_str)\n",
        "solution = search(values)\n",
        "if solution: display(solution)"
      ],
      "metadata": {
        "colab": {
          "base_uri": "https://localhost:8080/"
        },
        "id": "JdvwtFUQ2Bov",
        "outputId": "bc91b8cf-d2a8-406b-c08e-cf62b1c5a011"
      },
      "execution_count": null,
      "outputs": [
        {
          "output_type": "stream",
          "name": "stdout",
          "text": [
            " 4 1 7 | 3 6 9 | 8 2 5 \n",
            " 6 3 2 | 1 5 8 | 9 4 7 \n",
            " 9 5 8 | 7 2 4 | 3 1 6 \n",
            "-------+-------+-------\n",
            " 8 2 5 | 4 3 7 | 1 6 9 \n",
            " 7 9 1 | 5 8 6 | 4 3 2 \n",
            " 3 4 6 | 9 1 2 | 7 5 8 \n",
            "-------+-------+-------\n",
            " 2 8 9 | 6 4 3 | 5 7 1 \n",
            " 5 7 3 | 2 9 1 | 6 8 4 \n",
            " 1 6 4 | 8 7 5 | 2 9 3 \n"
          ]
        }
      ]
    },
    {
      "cell_type": "markdown",
      "source": [
        "Teste a sua solução com os exemplos a seguir:\n",
        "\n",
        "  - Tabuleiro fácil:\n",
        "```\n",
        "In:  \n",
        "  grid_str = '..3.2.6..9..3.5..1..18.64....81.29..7.......8..67.82....26.95..8..2.3..9..5.1.3..'\n",
        "  values = grid_values(grid_str)\n",
        "  solution = search(values)\n",
        "  if solution: display(solution)\n",
        "==============================================================================================\n",
        "Out:\n",
        "4 8 3 | 9 2 1 | 6 5 7\n",
        "9 6 7 | 3 4 5 | 8 2 1\n",
        "2 5 1 | 8 7 6 | 4 9 3\n",
        "------+-------+------\n",
        "5 4 8 | 1 3 2 | 9 7 6\n",
        "7 2 9 | 5 6 4 | 1 3 8\n",
        "1 3 6 | 7 9 8 | 2 4 5\n",
        "------+-------+------\n",
        "3 7 2 | 6 8 9 | 5 1 4\n",
        "8 1 4 | 2 5 3 | 7 6 9\n",
        "6 9 5 | 4 1 7 | 3 8 2\n",
        "```\n",
        "  - Tabuleiro difícil:\n",
        "```\n",
        "In:  \n",
        "  grid_str = \"4.....8.5.3..........7......2.....6.....8.4......1.......6.3.7.5..2.....1.4......\"\n",
        "  values = grid_values(grid_str)\n",
        "  solution = search(values)\n",
        "  if solution: display(solution)\n",
        "==============================================================================================\n",
        "Out:\n",
        "4 1 7 | 3 6 9 | 8 2 5\n",
        "6 3 2 | 1 5 8 | 9 4 7\n",
        "9 5 8 | 7 2 4 | 3 1 6\n",
        "------+-------+------\n",
        "8 2 5 | 4 3 7 | 1 6 9\n",
        "7 9 1 | 5 8 6 | 4 3 2\n",
        "3 4 6 | 9 1 2 | 7 5 8\n",
        "------+-------+------\n",
        "2 8 9 | 6 4 3 | 5 7 1\n",
        "5 7 3 | 2 9 1 | 6 8 4\n",
        "1 6 4 | 8 7 5 | 2 9 3\n",
        "```\n",
        "\n"
      ],
      "metadata": {
        "id": "WLS0gnxTYpmM"
      }
    },
    {
      "cell_type": "markdown",
      "source": [
        "## Exercício 4: Backtracking melhorado"
      ],
      "metadata": {
        "id": "NgoUjCFZVQA0"
      }
    },
    {
      "cell_type": "markdown",
      "source": [
        "Implemente as funções a seguir para melhorar a performance do algoritmo de backtracking proposto no exercício anterior:\n",
        "\n",
        "  - *most_constrained_variable*: heurística para substituir *random_choice*;\n",
        "  - *least_constrained_value*: heurística para substituir *fixed_order*;\n",
        "  - *reduce_sudoku_strategies*: implementa estratégias de solução de sudoku mais avançadas do que a estratégia *eliminate* (dica: [site com mais estratégias](http://www.sudokudragon.com/sudokustrategy.htm) - combinando *eliminate* (no site ele chama de *single possibility rule*), *only choice* e *naked twins* é possível melhorar significativamente o algoritmo de backtracking)."
      ],
      "metadata": {
        "id": "gzD6xpUhVVau"
      }
    },
    {
      "cell_type": "code",
      "source": [
        "# retorna a célula com menor domínio\n",
        "def most_constrained_variable(values):\n",
        "    cells_nao_preenchidas = get_cells_nao_preenchidas(values)\n",
        "    return min(cells_nao_preenchidas, key = lambda cell: len(values[cell]))\n",
        "\n",
        "def least_constrained_value_sort(values, box):\n",
        "  domain = values[box]\n",
        "  cells_nao_preenchidas = get_cells_nao_preenchidas(values)\n",
        "  peers_nao_preenchidos = [peer for peer in peers[box] if peer in cells_nao_preenchidas]\n",
        "\n",
        "  # peso são quantas vezes o valor aparece em algum vizinho\n",
        "  # quanto menos o valor aparece nos vizinhos, menos restrito ele é\n",
        "  value_weight = {key: 0 for key in domain}\n",
        "\n",
        "  for value in domain:\n",
        "    for peer in peers_nao_preenchidos:\n",
        "      value_weight[value] = value_weight[value] + 1 if value in values[peer] else value_weight[value]\n",
        "\n",
        "  ret = sorted(domain, key=value_weight.get)\n",
        "  return  ret\n",
        "\n",
        "\n",
        "def naked_twins(values):\n",
        "    twins = []\n",
        "    for cell, value in values.items():\n",
        "      if cell in twins: continue\n",
        "      if len(value) == 2:\n",
        "        for peer in peers[cell]:\n",
        "          if len(values[peer]) != 2: continue\n",
        "          # podem estar ordenados\n",
        "          a,b = value\n",
        "          x,y = values[peer]\n",
        "          # twins check\n",
        "          if (a,b) == (x,y) or (a,b) == (y,x):\n",
        "            twins.append(cell)\n",
        "            twins.append(peer)\n",
        "            # renomeando apenas\n",
        "            twin = peer\n",
        "            shared_peers = [p for p in peers[cell] if p in peers[twin]]\n",
        "\n",
        "            # elimina os valores dos twins nos vizinhos compartilhados por ambos\n",
        "            for shared_peer in shared_peers:\n",
        "              for twin_value in values[cell]:\n",
        "                values[shared_peer] = values[shared_peer].replace(twin_value, '')\n",
        "    return values\n",
        "\n",
        "def only_choice(values):\n",
        "    for unit in unitlist:\n",
        "        for digit in '123456789':\n",
        "            dplaces = [box for box in unit if digit in values[box]]\n",
        "            if len(dplaces) == 1:\n",
        "                values[dplaces[0]] = digit\n",
        "    return values\n",
        "\n",
        "\n",
        "def reduce_sudoku_strategies(values):\n",
        "  reduced_values = eliminate(values)\n",
        "  reduced_values = naked_twins(reduced_values)\n",
        "  reduced_values = only_choice(reduced_values)\n",
        "  return reduced_values\n",
        "\n",
        "grid_str = '..3.2.6..9..3.5..1..18.64....81.29..7.......8..67.82....26.95..8..2.3..9..5.1.3..'\n",
        "values = grid_values(grid_str)\n",
        "#display(values) # para ver a grid antes de solucionar\n",
        "solution = search(values, most_constrained_variable, least_constrained_value_sort, reduce_sudoku_strategies)\n",
        "if solution: display(solution)"
      ],
      "metadata": {
        "id": "S2zr5A5aVUtW",
        "colab": {
          "base_uri": "https://localhost:8080/"
        },
        "outputId": "219166a5-c398-42c6-bf27-90d6d0b1ff66"
      },
      "execution_count": null,
      "outputs": [
        {
          "output_type": "stream",
          "name": "stdout",
          "text": [
            " 4 8 3 | 9 2 1 | 6 5 7 \n",
            " 9 6 7 | 3 4 5 | 8 2 1 \n",
            " 2 5 1 | 8 7 6 | 4 9 3 \n",
            "-------+-------+-------\n",
            " 5 4 8 | 1 3 2 | 9 7 6 \n",
            " 7 2 9 | 5 6 4 | 1 3 8 \n",
            " 1 3 6 | 7 9 8 | 2 4 5 \n",
            "-------+-------+-------\n",
            " 3 7 2 | 6 8 9 | 5 1 4 \n",
            " 8 1 4 | 2 5 3 | 7 6 9 \n",
            " 6 9 5 | 4 1 7 | 3 8 2 \n"
          ]
        }
      ]
    },
    {
      "cell_type": "markdown",
      "source": [
        "## Exercício 5: Medindo performance"
      ],
      "metadata": {
        "id": "OAoG5MkVblJV"
      }
    },
    {
      "cell_type": "markdown",
      "source": [
        "Proponha uma metodologia para avaliar o ganho de performance obtido com as funções implementadas no exercício anterior. Implemente experimentos utilizando a metodologia proposta para avaliar os ganhos na lista de jogos a seguir:"
      ],
      "metadata": {
        "id": "HcXvoVkYcsJ6"
      }
    },
    {
      "cell_type": "code",
      "source": [
        "jogos = [\n",
        "    '4.....8.5.3..........7......2.....6.....8.4......1.......6.3.7.5..2.....1.4......',\n",
        "    '52...6.........7.13...........4..8..6......5...........418.........3..2...87.....',\n",
        "    '6.....8.3.4.7.................5.4.7.3..2.....1.6.......2.....5.....8.6......1....',\n",
        "    '48.3............71.2.......7.5....6....2..8.............1.76...3.....4......5....',\n",
        "    '....14....3....2...7..........9...3.6.1.............8.2.....1.4....5.6.....7.8...',\n",
        "    '......52..8.4......3...9...5.1...6..2..7........3.....6...1..........7.4.......3.',\n",
        "    '6.2.5.........3.4..........43...8....1....2........7..5..27...........81...6.....',\n",
        "    '.524.........7.1..............8.2...3.....6...9.5.....1.6.3...........897........',\n",
        "    '6.2.5.........4.3..........43...8....1....2........7..5..27...........81...6.....',\n",
        "    '.923.........8.1...........1.7.4...........658.........6.5.2...4.....7.....9.....',\n",
        "    '6..3.2....5.....1..........7.26............543.........8.15........4.2........7..',\n",
        "    '.6.5.1.9.1...9..539....7....4.8...7.......5.8.817.5.3.....5.2............76..8...',\n",
        "    '..5...987.4..5...1..7......2...48....9.1.....6..2.....3..6..2.......9.7.......5..',\n",
        "    '3.6.7...........518.........1.4.5...7.....6.....2......2.....4.....8.3.....5.....',\n",
        "    '1.....3.8.7.4..............2.3.1...........958.........5.6...7.....8.2...4.......',\n",
        "    '6..3.2....4.....1..........7.26............543.........8.15........4.2........7..',\n",
        "    '....3..9....2....1.5.9..............1.2.8.4.6.8.5...2..75......4.1..6..3.....4.6.',\n",
        "    '45.....3....8.1....9...........5..9.2..7.....8.........1..4..........7.2...6..8..',\n",
        "    '.237....68...6.59.9.....7......4.97.3.7.96..2.........5..47.........2....8.......',\n",
        "    '..84...3....3.....9....157479...8........7..514.....2...9.6...2.5....4......9..56',\n",
        "    '.98.1....2......6.............3.2.5..84.........6.........4.8.93..5...........1..',\n",
        "    '..247..58..............1.4.....2...9528.9.4....9...1.........3.3....75..685..2...',\n",
        "    '4.....8.5.3..........7......2.....6.....5.4......1.......6.3.7.5..2.....1.9......',\n",
        "    '.2.3......63.....58.......15....9.3....7........1....8.879..26......6.7...6..7..4',\n",
        "    '1.....7.9.4...72..8.........7..1..6.3.......5.6..4..2.........8..53...7.7.2....46',\n",
        "    '4.....3.....8.2......7........1...8734.......6........5...6........1.4...82......',\n",
        "    '.......71.2.8........4.3...7...6..5....2..3..9........6...7.....8....4......5....',\n",
        "    '6..3.2....4.....8..........7.26............543.........8.15........8.2........7..',\n",
        "    '.47.8...1............6..7..6....357......5....1..6....28..4.....9.1...4.....2.69.',\n",
        "    '......8.17..2........5.6......7...5..1....3...8.......5......2..4..8....6...3....',\n",
        "    '38.6.......9.......2..3.51......5....3..1..6....4......17.5..8.......9.......7.32',\n",
        "    '...5...........5.697.....2...48.2...25.1...3..8..3.........4.7..13.5..9..2...31..',\n",
        "    '.2.......3.5.62..9.68...3...5..........64.8.2..47..9....3.....1.....6...17.43....',\n",
        "    '.8..4....3......1........2...5...4.69..1..8..2...........3.9....6....5.....2.....',\n",
        "    '..8.9.1...6.5...2......6....3.1.7.5.........9..4...3...5....2...7...3.8.2..7....4',\n",
        "    '4.....5.8.3..........7......2.....6.....5.8......1.......6.3.7.5..2.....1.8......',\n",
        "    '1.....3.8.6.4..............2.3.1...........958.........5.6...7.....8.2...4.......',\n",
        "    '1....6.8..64..........4...7....9.6...7.4..5..5...7.1...5....32.3....8...4........',\n",
        "    '249.6...3.3....2..8.......5.....6......2......1..4.82..9.5..7....4.....1.7...3...',\n",
        "    '...8....9.873...4.6..7.......85..97...........43..75.......3....3...145.4....2..1',\n",
        "    '...5.1....9....8...6.......4.1..........7..9........3.8.....1.5...2..4.....36....',\n",
        "    '......8.16..2........7.5......6...2..1....3...8.......2......7..3..8....5...4....',\n",
        "    '.476...5.8.3.....2.....9......8.5..6...1.....6.24......78...51...6....4..9...4..7',\n",
        "    '.....7.95.....1...86..2.....2..73..85......6...3..49..3.5...41724................',\n",
        "    '.4.5.....8...9..3..76.2.....146..........9..7.....36....1..4.5..6......3..71..2..',\n",
        "    '.834.........7..5...........4.1.8..........27...3.....2.6.5....5.....8........1..',\n",
        "    '..9.....3.....9...7.....5.6..65..4.....3......28......3..75.6..6...........12.3.8',\n",
        "    '.26.39......6....19.....7.......4..9.5....2....85.....3..2..9..4....762.........4',\n",
        "    '2.3.8....8..7...........1...6.5.7...4......3....1............82.5....6...1.......',\n",
        "    '6..3.2....1.....5..........7.26............843.........8.15........8.2........7..',\n",
        "    '1.....9...64..1.7..7..4.......3.....3.89..5....7....2.....6.7.9.....4.1....129.3.',\n",
        "    '.........9......84.623...5....6...453...1...6...9...7....1.....4.5..2....3.8....9',\n",
        "    '.2....5938..5..46.94..6...8..2.3.....6..8.73.7..2.........4.38..7....6..........5'\n",
        "]"
      ],
      "metadata": {
        "id": "Xkvj31hucqdw"
      },
      "execution_count": null,
      "outputs": []
    },
    {
      "cell_type": "code",
      "source": [
        "import time\n",
        "import timeit\n",
        "import matplotlib.pyplot as plt\n",
        "\n",
        "start_time = time.time()\n",
        "grid_str = \"4.....8.5.3..........7......2.....6.....8.4......1.......6.3.7.5..2.....1.4......\"\n",
        "values = grid_values(grid_str)\n",
        "solution = search(values)\n",
        "end_time = time.time()\n",
        "tempo_backtraking = end_time - start_time\n",
        "\n",
        "start_time = time.time()\n",
        "for jogo in jogos:\n",
        "  grid_str = jogo\n",
        "  values = grid_values(grid_str)\n",
        "  solution = search(values, most_constrained_variable, least_constrained_value_sort, reduce_sudoku_strategies)\n",
        "end_time = time.time()\n",
        "tempo_naked_twins = end_time - start_time\n",
        "\n",
        "print(\"Tempo do Backtracking:\", tempo_backtraking)\n",
        "print(\"Tempo do Naked Twins:\", tempo_naked_twins)\n",
        "\n",
        "algoritmos = ['Backtraking', 'Naked Twins']\n",
        "tempos = [tempo_backtraking, tempo_naked_twins]\n",
        "\n",
        "plt.bar(algoritmos, tempos)\n",
        "plt.ylabel('Tempo de Execução')\n",
        "plt.title('Comparação de Tempo de Execução')\n",
        "plt.show()\n"
      ],
      "metadata": {
        "id": "qJEob6KxiZJ2",
        "colab": {
          "base_uri": "https://localhost:8080/",
          "height": 488
        },
        "outputId": "909ba0d6-ebd6-4d2f-ae49-187de7be2d83"
      },
      "execution_count": null,
      "outputs": [
        {
          "output_type": "stream",
          "name": "stdout",
          "text": [
            "Tempo do Backtracking: 1284.7117865085602\n",
            "Tempo do Naked Twins: 32.694669246673584\n"
          ]
        },
        {
          "output_type": "display_data",
          "data": {
            "text/plain": [
              "<Figure size 640x480 with 1 Axes>"
            ],
            "image/png": "[encoded data removed]"
          },
          "metadata": {}
        }
      ]
    },
    {
      "cell_type": "markdown",
      "source": [
        "# Resultado\n",
        "Acima é executado apenas um jogo de sudoku dentre a lista de 52 jogos para o backtracking, isso pois seria inviável executar todos uma vez que a execução do algoritmo é muito lenta, dessa forma, apenas com essa única execução é possível perceber a drástica melhora na velocidade de execução do Naked Twins, uma vez que o mesmo executa os 52 jogos em um tempo muito menor que o Backtracking executa apenas 1.\n",
        "\n"
      ],
      "metadata": {
        "id": "kNP1Apgc_e42"
      }
    }
  ]
}
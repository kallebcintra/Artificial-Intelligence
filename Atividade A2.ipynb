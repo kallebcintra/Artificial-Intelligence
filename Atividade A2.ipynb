{
  "nbformat": 4,
  "nbformat_minor": 0,
  "metadata": {
    "colab": {
      "provenance": [],
      "include_colab_link": true
    },
    "kernelspec": {
      "name": "python3",
      "display_name": "Python 3"
    },
    "language_info": {
      "name": "python"
    }
  },
  "cells": [
    {
      "cell_type": "markdown",
      "metadata": {
        "id": "view-in-github",
        "colab_type": "text"
      },
      "source": [
        "<a href=\"https://colab.research.google.com/github/kallebcintra/Artificial-Intelligence/blob/main/Atividade%20A2.ipynb\" target=\"_parent\"><img src=\"https://colab.research.google.com/assets/colab-badge.svg\" alt=\"Open In Colab\"/></a>"
      ]
    },
    {
      "cell_type": "code",
      "source": [
        "import pdb;"
      ],
      "metadata": {
        "id": "DC43P7ZSySSL"
      },
      "execution_count": null,
      "outputs": []
    },
    {
      "cell_type": "markdown",
      "source": [
        "# Exercício 1\n",
        "\n",
        "Qual é o caminho mais rápido para ir de 1 a N, sabendo que as únicas duas ações possíveis são:\n",
        " - andar de i para i + 1, com duração de 1 minuto (para todo i de 1 a N - 1)\n",
        " - mágica de i para 2*i, com duração de 2 minutos (para todo i de 1 a N/2)\n",
        "\n",
        "Implemente as funções da classe abaixo que define a interface desse problema para utilização com algoritmos de busca vistos em sala de aula. Em sequência, escolha e implemente um dos algoritmos de busca explicados em sala que resolva o problema. Faça essa implementação na função *solution*, que tem como input um objeto criado utilizando a classe implementada *TransportationProblem*."
      ],
      "metadata": {
        "id": "Ma869bRMJ1kc"
      }
    },
    {
      "cell_type": "code",
      "execution_count": null,
      "metadata": {
        "id": "8exGlgGkA37Z"
      },
      "outputs": [],
      "source": [
        "class TransportationProblem:\n",
        "    def __init__(self, N):\n",
        "        self.N = N\n",
        "    def startState(self):\n",
        "        return 1\n",
        "    def isEnd(self, state):\n",
        "        return state == self.N\n",
        "    def succAndCost(self, state):\n",
        "        # retorna uma lista de tuples com 3 informações:\n",
        "        # (ação, novo estado, custo)\n",
        "        # TODO\n",
        "        if state*2 <= self.N:\n",
        "            costs_list = [('walk', state+1, 1), ('magic', state*2, 2)]\n",
        "            return costs_list\n",
        "\n",
        "        costs_list = [('walk', state+1, 1)]\n",
        "        return costs_list"
      ]
    },
    {
      "cell_type": "code",
      "source": [
        "def solution(problem):\n",
        "    # path = []\n",
        "    # TODO\n",
        "    # return path\n",
        "\n",
        "\n",
        "    min_costs = {}\n",
        "    paths = {}\n",
        "\n",
        "    def dp(state):\n",
        "        if state in min_costs:\n",
        "            return min_costs[state]\n",
        "\n",
        "        if problem.isEnd(state):\n",
        "            min_costs[state] = 0\n",
        "            paths[state] = []\n",
        "            return 0\n",
        "\n",
        "        actions = problem.succAndCost(state)\n",
        "        min_cost = float('inf')\n",
        "        min_path = []\n",
        "\n",
        "        for action in actions:\n",
        "            _, next_state, cost = action\n",
        "            future_cost = dp(next_state)\n",
        "            total_cost = cost + future_cost\n",
        "\n",
        "            if total_cost < min_cost:\n",
        "                min_cost = total_cost\n",
        "                min_path = [action] + paths[next_state]\n",
        "\n",
        "        min_costs[state] = min_cost\n",
        "        paths[state] = min_path\n",
        "        return min_cost\n",
        "\n",
        "    start_state = problem.startState()\n",
        "    shortest_cost = dp(start_state)\n",
        "    shortest_path = paths[start_state]\n",
        "\n",
        "    return shortest_path"
      ],
      "metadata": {
        "id": "a3prpoBVJzp0"
      },
      "execution_count": null,
      "outputs": []
    },
    {
      "cell_type": "markdown",
      "source": [
        "Exemplos:\n",
        "\n",
        "\n",
        "> N = 2 \\\n",
        "> p = TransportationProblem(N) \\\n",
        "> print(*solution(p), sep='\\n') \\\n",
        "\n",
        "('walk', 2, 1)\n",
        "\n",
        "=====================================\n",
        "\n",
        "> N = 3 \\\n",
        "> p = TransportationProblem(N) \\\n",
        "> print(*solution(p), sep='\\n') \\\n",
        "\n",
        "('walk', 2, 1) \\\n",
        "('walk', 3, 1)\n",
        "\n",
        "=====================================\n",
        "\n",
        "> N = 10 \\\n",
        "> p = TransportationProblem(N) \\\n",
        "> print(*solution(p), sep='\\n') \\\n",
        "\n",
        "('walk', 2, 1) \\\n",
        "('magic', 4, 2) \\\n",
        "('walk', 5, 1) \\\n",
        "('magic', 10, 2) \\\n",
        "\n",
        "ou\n",
        "\n",
        "('walk', 2, 1) \\\n",
        "('walk', 3, 1) \\\n",
        "('walk', 4, 1) \\\n",
        "('walk', 5, 1) \\\n",
        "('magic', 10, 2) \\\n",
        "\n",
        "(**nesse caso, os caminhos apresentam o mesmo custo total, logo não é necessário retornar as duas soluções, basta uma delas**)\n",
        "\n",
        "=====================================\n",
        "\n",
        "> N = 12 \\\n",
        "> p = TransportationProblem(N) \\\n",
        "> print(*solution(p), sep='\\n') \\\n",
        "\n",
        "('walk', 2, 1) \\\n",
        "('walk', 3, 1) \\\n",
        "('magic', 6, 2) \\\n",
        "('magic', 12, 2) \\"
      ],
      "metadata": {
        "id": "NIOXxqKPR6xr"
      }
    },
    {
      "cell_type": "code",
      "source": [
        "N = 100 # teste a sua solução para valores de N diferentes dos exemplos e veja se os resultados fazem sentido\n",
        "p = TransportationProblem(N)\n",
        "path = solution(p)\n",
        "# print(*solution(p), sep='\\n')\n",
        "print(*path, sep='\\n')"
      ],
      "metadata": {
        "id": "DGLE2uyFNPny",
        "colab": {
          "base_uri": "https://localhost:8080/"
        },
        "outputId": "b87643af-2cf0-4893-ae2b-4d61989b3ecd"
      },
      "execution_count": null,
      "outputs": [
        {
          "output_type": "stream",
          "name": "stdout",
          "text": [
            "('walk', 2, 1)\n",
            "('walk', 3, 1)\n",
            "('magic', 6, 2)\n",
            "('magic', 12, 2)\n",
            "('magic', 24, 2)\n",
            "('walk', 25, 1)\n",
            "('magic', 50, 2)\n",
            "('magic', 100, 2)\n"
          ]
        }
      ]
    },
    {
      "cell_type": "markdown",
      "source": [
        "Implemente uma soução para o problema com o algoritmo A* e uma solução com Dynamic Programing. Compare em gráfico o tempo de execução dos dois algoritmos e da sua solução (caso ela tenha sido diferente) para N variando de 10 a 500 (caso esteja demorando muito para Ns maiores, vá até o maior valor de N que conseguir)."
      ],
      "metadata": {
        "id": "AitK3ibKOBO5"
      }
    },
    {
      "cell_type": "code",
      "source": [
        "# def solutionAstar(problem):\n",
        "    # path = []\n",
        "    # TODO\n",
        "    # return path\n",
        "\n",
        "# def solutionDP(problem):\n",
        "    # path = []\n",
        "    # TODO\n",
        "    # return path\n",
        "\n",
        "\n",
        "from queue import PriorityQueue\n",
        "\n",
        "def solutionAstar(problem):\n",
        "    start_state = problem.startState()\n",
        "    start_cost = 0\n",
        "    queue = PriorityQueue()\n",
        "    queue.put((start_cost, [], start_state))\n",
        "\n",
        "    cost_table = {start_state: start_cost}\n",
        "\n",
        "    if isinstance(problem, RestrictedTransportationProblem):\n",
        "        def heuristic(state):\n",
        "            num, odd_count = state\n",
        "            if num * 2 <= problem.N:\n",
        "                return problem.N - (num * 2) + 2\n",
        "            else:\n",
        "                return problem.N - num\n",
        "    else:\n",
        "        def heuristic(state):\n",
        "            if state * 2 <= problem.N:\n",
        "                return problem.N - (state * 2) + 2\n",
        "            else:\n",
        "                return problem.N - state\n",
        "\n",
        "    while not queue.empty():\n",
        "        current_cost, current_path, current_state = queue.get()\n",
        "\n",
        "        if problem.isEnd(current_state):\n",
        "            return current_path\n",
        "\n",
        "        successors = problem.succAndCost(current_state)\n",
        "\n",
        "        for action, next_state, cost in successors:\n",
        "            new_cost = current_cost + cost\n",
        "\n",
        "            if next_state not in cost_table or new_cost < cost_table[next_state]:\n",
        "                cost_table[next_state] = new_cost\n",
        "\n",
        "                heuristic_value = heuristic(next_state)\n",
        "\n",
        "                priority = new_cost + heuristic_value\n",
        "\n",
        "                new_path = current_path + [(action, next_state, cost)]\n",
        "                queue.put((priority, new_path, next_state))\n",
        "\n",
        "    return None"
      ],
      "metadata": {
        "id": "rCqpDDPvPgd_"
      },
      "execution_count": null,
      "outputs": []
    },
    {
      "cell_type": "code",
      "source": [
        "N = 23\n",
        "p = TransportationProblem(N)\n",
        "print(*solutionAstar(p), sep='\\n')"
      ],
      "metadata": {
        "colab": {
          "base_uri": "https://localhost:8080/"
        },
        "id": "_v0SZs9QuyzX",
        "outputId": "7a8abad0-d3bf-476b-b521-74a1c2904b81"
      },
      "execution_count": null,
      "outputs": [
        {
          "output_type": "stream",
          "name": "stdout",
          "text": [
            "('walk', 2, 1)\n",
            "('magic', 4, 2)\n",
            "('walk', 5, 1)\n",
            "('magic', 10, 2)\n",
            "('walk', 11, 1)\n",
            "('magic', 22, 2)\n",
            "('walk', 23, 1)\n"
          ]
        }
      ]
    },
    {
      "cell_type": "code",
      "source": [
        "def solutionDP(problem):\n",
        "    min_costs = {}\n",
        "    paths = {}\n",
        "\n",
        "    def dp(state):\n",
        "        if state in min_costs:\n",
        "            return min_costs[state]\n",
        "\n",
        "        if problem.isEnd(state):\n",
        "            min_costs[state] = 0\n",
        "            paths[state] = []\n",
        "            return 0\n",
        "\n",
        "        actions = problem.succAndCost(state)\n",
        "        min_cost = float('inf')\n",
        "        min_path = []\n",
        "\n",
        "        for action in actions:\n",
        "            _, next_state, cost = action\n",
        "            future_cost = dp(next_state)\n",
        "            total_cost = cost + future_cost\n",
        "\n",
        "            if total_cost < min_cost:\n",
        "                min_cost = total_cost\n",
        "                min_path = [action] + paths[next_state]\n",
        "\n",
        "        min_costs[state] = min_cost\n",
        "        paths[state] = min_path\n",
        "        return min_cost\n",
        "\n",
        "    start_state = problem.startState()\n",
        "    shortest_cost = dp(start_state)\n",
        "    shortest_path = paths[start_state]\n",
        "\n",
        "    return shortest_path"
      ],
      "metadata": {
        "id": "TKFfhMdnu4PV"
      },
      "execution_count": null,
      "outputs": []
    },
    {
      "cell_type": "code",
      "source": [
        "N = 23\n",
        "p = TransportationProblem(N)\n",
        "print(*solutionDP(p), sep='\\n')"
      ],
      "metadata": {
        "colab": {
          "base_uri": "https://localhost:8080/"
        },
        "id": "9oqHbqwFu53C",
        "outputId": "42d03a29-3522-4e7f-a891-b17f8e89afaf"
      },
      "execution_count": null,
      "outputs": [
        {
          "output_type": "stream",
          "name": "stdout",
          "text": [
            "('walk', 2, 1)\n",
            "('walk', 3, 1)\n",
            "('walk', 4, 1)\n",
            "('walk', 5, 1)\n",
            "('magic', 10, 2)\n",
            "('walk', 11, 1)\n",
            "('magic', 22, 2)\n",
            "('walk', 23, 1)\n"
          ]
        }
      ]
    },
    {
      "cell_type": "markdown",
      "source": [
        "**Dica para medir o tempo de execução de uma função:**\n",
        "\n",
        "Mais informações no [link da documentação](https://ipython.readthedocs.io/en/stable/interactive/magics.html#magic-timeit)."
      ],
      "metadata": {
        "id": "oQpUncKbVHIQ"
      }
    },
    {
      "cell_type": "code",
      "source": [
        "def dummyFunc(N = 10):\n",
        "    s = sum(range(N))\n",
        "\n",
        "t = %timeit -q -o dummyFunc()\n",
        "#t = %timeit -n 1 -q -o dummyFunc() # para o caso do comando acima estar demorando muito\n",
        "\n",
        "t.average\n",
        "\n",
        "N = 100 # teste a sua solução para valores de N diferentes didx = calculated_cost(costs_list[0][1])os exemplos e veja se os resultados fazem sentido\n",
        "p = TransportationProblem(N)\n",
        "\n",
        "t1 = %timeit -q -o solutionDP(p)\n",
        "print(\"t1: \", t1.average)\n",
        "\n",
        "t2 = %timeit -q -o solutionAstar(p)\n",
        "print(\"t2: \", t2.average)"
      ],
      "metadata": {
        "colab": {
          "base_uri": "https://localhost:8080/"
        },
        "id": "JAwiVRF0UCPl",
        "outputId": "deeb7cf5-e0f5-4f30-944c-bb7c44e7a47a"
      },
      "execution_count": null,
      "outputs": [
        {
          "output_type": "stream",
          "name": "stdout",
          "text": [
            "t1:  0.0001596031066000023\n",
            "t2:  0.00017733082467142851\n"
          ]
        }
      ]
    },
    {
      "cell_type": "markdown",
      "source": [
        "# Exercício 2:\n",
        "\n",
        "Qual é o caminho mais rápido para ir de 1 a N passando obrigatoriamente por pelo menos 3 números ímpares, novamente sabendo que as duas únicas ações possíveis são:\n",
        " - andar de i para i + 1, com duração de 1 minuto (para todo i de 1 a N - 1)\n",
        " - mágica de i para 2*i, com duração de 2 minutos (para todo i de 1 a N/2)\n",
        "\n",
        "Implemente uma nova classe *RestrictedTransportationProblem* para este problema e aplique os algoritmos propostos nas funções *solution*, *solutionAstar* e *solutionDP* para resolvê-lo."
      ],
      "metadata": {
        "id": "BcjQmRUbafOg"
      }
    },
    {
      "cell_type": "code",
      "source": [
        "class RestrictedTransportationProblem:\n",
        "    def __init__(self, N):\n",
        "        self.N = N\n",
        "\n",
        "    def startState(self):\n",
        "        # O estado inicial é 1, com 0 números ímpares visitados\n",
        "        return (1, 1)\n",
        "\n",
        "    def isEnd(self, state):\n",
        "        # Verifica se o estado atual é o estado final,\n",
        "        # onde N é alcançado e pelo menos 3 números ímpares foram visitados\n",
        "        num, odd_count = state\n",
        "        if num > self.N:\n",
        "            return True\n",
        "        if num % 2 != 0:\n",
        "            odd_count += 1\n",
        "\n",
        "        return num == self.N and odd_count >= 3\n",
        "\n",
        "    def succAndCost(self, state):\n",
        "        num, odd_count = state\n",
        "        succs = []\n",
        "\n",
        "        if num == self.N:\n",
        "            succs.append(('walk', (num + 1, odd_count), N))\n",
        "\n",
        "        if num < self.N:\n",
        "            # Verificar se o número atual é ímpar e atualizar o contador de ímpares\n",
        "            if num % 2 == 0:\n",
        "                odd_count += 1\n",
        "            # Adicionar a ação de andar de i para i + 1\n",
        "            succs.append(('walk', (num + 1, odd_count), 1))\n",
        "            # Verificar se é possível usar a mágica\n",
        "            if num * 2 <= self.N:\n",
        "                # Verificar se o número atual é ímpar e atualizar o contador de ímpares\n",
        "                if num % 2 == 0:\n",
        "                    odd_count -= 1\n",
        "                succs.append(('magic', (num * 2, odd_count), 2))\n",
        "        return succs"
      ],
      "metadata": {
        "id": "7buz4u5d6QZc"
      },
      "execution_count": null,
      "outputs": []
    },
    {
      "cell_type": "code",
      "source": [
        "N = 35\n",
        "p = RestrictedTransportationProblem(N)\n",
        "\n",
        "print(\"DP: \",*solutionDP(p), sep='\\n')\n",
        "\n",
        "print(\"\\nA*: \",*solutionAstar(p), sep='\\n')"
      ],
      "metadata": {
        "colab": {
          "base_uri": "https://localhost:8080/"
        },
        "id": "vM5VyjbwvsUf",
        "outputId": "87c4f78a-d731-40b5-d0eb-88e8dee24a38"
      },
      "execution_count": null,
      "outputs": [
        {
          "output_type": "stream",
          "name": "stdout",
          "text": [
            "DP: \n",
            "('walk', (2, 1), 1)\n",
            "('walk', (3, 2), 1)\n",
            "('walk', (4, 2), 1)\n",
            "('magic', (8, 2), 2)\n",
            "('magic', (16, 2), 2)\n",
            "('walk', (17, 3), 1)\n",
            "('magic', (34, 3), 2)\n",
            "('walk', (35, 4), 1)\n",
            "\n",
            "A*: \n",
            "('walk', (2, 1), 1)\n",
            "('magic', (4, 1), 2)\n",
            "('magic', (8, 1), 2)\n",
            "('magic', (16, 1), 2)\n",
            "('walk', (17, 2), 1)\n",
            "('magic', (34, 2), 2)\n",
            "('walk', (35, 3), 1)\n"
          ]
        }
      ]
    },
    {
      "cell_type": "markdown",
      "source": [
        "# Exercício 3:\n",
        "\n",
        "As matrizes a seguir representam exemplos de mapas de rios congelados que você deve atravessar:\n",
        "\n",
        "```\n",
        "m0 =\n",
        " [\n",
        "    \"SFFF\",\n",
        "    \"FHFH\",\n",
        "    \"FFFH\",\n",
        "    \"HFFG\"\n",
        " ]\n",
        "\n",
        "m1 =\n",
        " [\n",
        "    \"SFFFFFFF\",\n",
        "    \"FFFFFFFF\",\n",
        "    \"FFFHFFFF\",\n",
        "    \"FFFFFHFF\",\n",
        "    \"FFFHFFFF\",\n",
        "    \"FHHFFFHF\",\n",
        "    \"FHFFHFHF\",\n",
        "    \"FFFHFFFG\",\n",
        " ]\n",
        "```\n",
        "\n",
        "Nesses mapas, *S* representa a sua posição inicial; *F* significa que a posição está congelada e pode ser ocupada; *H* significa que existe um buraco nessa posição; *G* representa a posição onde você quer chegar.\n",
        "\n",
        "Implemente a classe *FrozenLakeProblem* que recebe um mapa e implementa a mesma interface dos problemas anteriores. As ações permitidas em cada posição são: norte, sul, leste e oeste. Em sequência, encontre o algoritmo que retorna o caminho mais curto para um dado mapa.\n"
      ],
      "metadata": {
        "id": "9ViS35B26T2M"
      }
    },
    {
      "cell_type": "code",
      "source": [
        "class FrozenLakeProblem:\n",
        "    def __init__(self, N):\n",
        "        self.N = N\n",
        "\n",
        "    def startState(self):\n",
        "        return (0, 0)\n",
        "\n",
        "    def isEnd(self, state):\n",
        "        i, j = state\n",
        "        return self.N[i][j] == \"G\"\n",
        "\n",
        "    def succAndCost(self, state):\n",
        "        size = len(self.N[0])\n",
        "        x, y = state\n",
        "        costs_list = []\n",
        "\n",
        "        if x > 0 and self.N[x - 1][y] != \"H\":\n",
        "            new_state = (x - 1, y)\n",
        "            costs_list.append(('norte', new_state, 1))\n",
        "        if x < size - 1 and self.N[x + 1][y] != \"H\":\n",
        "            new_state = (x + 1, y)\n",
        "            costs_list.append(('sul', new_state, 1))\n",
        "        if y > 0 and self.N[x][y - 1] != \"H\":\n",
        "            new_state = (x, y - 1)\n",
        "            costs_list.append(('oeste', new_state, 1))\n",
        "        if y < size - 1 and self.N[x][y + 1] != \"H\":\n",
        "            new_state = (x, y + 1)\n",
        "            costs_list.append(('leste', new_state, 1))\n",
        "\n",
        "        return costs_list"
      ],
      "metadata": {
        "id": "uyFHLplefeF_"
      },
      "execution_count": null,
      "outputs": []
    },
    {
      "cell_type": "code",
      "source": [
        "from collections import deque\n",
        "\n",
        "def solutionFL(problem):\n",
        "    start_state = problem.startState()\n",
        "    goal_state = (len(problem.N) - 1, len(problem.N[0]) - 1)\n",
        "\n",
        "    queue = deque([(start_state, [])])\n",
        "    visited = set()\n",
        "\n",
        "    while queue:\n",
        "        current_state, path = queue.popleft()\n",
        "\n",
        "        if current_state == goal_state:\n",
        "            return path\n",
        "\n",
        "        if current_state in visited:\n",
        "            continue\n",
        "\n",
        "        visited.add(current_state)\n",
        "\n",
        "        for action, next_state, cost in problem.succAndCost(current_state):\n",
        "            new_path = path + [(action, next_state, cost)]\n",
        "            queue.append((next_state, new_path))\n",
        "    return None"
      ],
      "metadata": {
        "id": "14ZlhbzmQ3KQ"
      },
      "execution_count": null,
      "outputs": []
    },
    {
      "cell_type": "code",
      "source": [
        "# teste:\n",
        "mapa = [\"SFFFHFFF\",\n",
        "        \"FFFFHFFF\",\n",
        "        \"FFFFHFFF\",\n",
        "        \"HHHFHHFF\",\n",
        "        \"FFFFFFFF\",\n",
        "        \"FHHHHHHH\",\n",
        "        \"FHFFHFHF\",\n",
        "        \"FFFFFFFG\",]\n",
        "\n",
        "problem = FrozenLakeProblem(mapa)\n",
        "caminho = solutionFL(problem)\n",
        "print(*caminho, sep='\\n')"
      ],
      "metadata": {
        "colab": {
          "base_uri": "https://localhost:8080/"
        },
        "id": "PDxSsWeaT-NU",
        "outputId": "f0827d85-fcad-4a2c-9cc1-3393d4c04a47"
      },
      "execution_count": null,
      "outputs": [
        {
          "output_type": "stream",
          "name": "stdout",
          "text": [
            "('sul', (1, 0), 1)\n",
            "('sul', (2, 0), 1)\n",
            "('leste', (2, 1), 1)\n",
            "('leste', (2, 2), 1)\n",
            "('leste', (2, 3), 1)\n",
            "('sul', (3, 3), 1)\n",
            "('sul', (4, 3), 1)\n",
            "('oeste', (4, 2), 1)\n",
            "('oeste', (4, 1), 1)\n",
            "('oeste', (4, 0), 1)\n",
            "('sul', (5, 0), 1)\n",
            "('sul', (6, 0), 1)\n",
            "('sul', (7, 0), 1)\n",
            "('leste', (7, 1), 1)\n",
            "('leste', (7, 2), 1)\n",
            "('leste', (7, 3), 1)\n",
            "('leste', (7, 4), 1)\n",
            "('leste', (7, 5), 1)\n",
            "('leste', (7, 6), 1)\n",
            "('leste', (7, 7), 1)\n"
          ]
        }
      ]
    },
    {
      "cell_type": "markdown",
      "source": [
        "Imagine agora que, dado que o lago está congelado, quando você tenta se movimentar nele, existe uma chance de você escorregar e se movimentar em uma direção aleatória perpendicular à direção que você pretendia. Após algumas tentativas, você percebe que você escorrega com probabilidade *p* toda vez que tenta se movimentar e que, quando escorrega, é igual a chance de ir para qualquer um dos dois lados possíveis.\n",
        "\n",
        "Implemente a classe *FrozenLakeMDP* que recebe um mapa e uma probabilidade e implementa as funções necessárias para definir a interface desse problema para utilização com os algoritmos de *policyEvaluation* e *valueIteration* apresentados em sala de aula. Em seguida, implemente os algoritmos de *policyEvaluation* e *valueIteration* nas funções com os respectivos nomes."
      ],
      "metadata": {
        "id": "gG-4G-6FRYVF"
      }
    },
    {
      "cell_type": "code",
      "source": [
        "class FrozenLakeMDP:\n",
        "    def __init__(self, m, p):\n",
        "        self.map = m\n",
        "        self.probability = p\n",
        "\n",
        "    def startState(self):\n",
        "        return (0, 0)\n",
        "\n",
        "    def isEnd(self, state):\n",
        "        i, j = state\n",
        "        return self.map[i][j] == \"G\"\n",
        "\n",
        "    def states(self):\n",
        "        states = []\n",
        "        for i in range(len(self.map)):\n",
        "            for j in range(len(self.map[i])):\n",
        "                if self.map[i][j] != 'H':  # Ignora os estados que são 'H'\n",
        "                    states.append((i, j))\n",
        "        return states\n",
        "\n",
        "    def actions(self, state):\n",
        "        x, y = state\n",
        "        actions = []\n",
        "        if self.map[x][y] not in ['H', 'G']:  # Ignora os estados que são  'H' ou 'G'\n",
        "            if x > 0 and self.map[x-1][y] != \"H\":\n",
        "                actions.append(('norte', (x-1, y)))\n",
        "            if x < len(self.map) - 1 and self.map[x+1][y] != \"H\":\n",
        "                actions.append(('sul', (x+1, y)))\n",
        "            if y > 0 and self.map[x][y-1] != \"H\":\n",
        "                actions.append(('oeste', (x, y-1)))\n",
        "            if y < len(self.map[0]) - 1 and self.map[x][y+1] != \"H\":\n",
        "                actions.append(('leste', (x, y+1)))\n",
        "        return actions\n",
        "\n",
        "    def succProbReward(self, state, action):\n",
        "        x, y = state\n",
        "        if self.map[x][y] in ['H', 'G']:  # Se o estado é 'H' ou 'G', não há transição\n",
        "            return []\n",
        "\n",
        "        successors = []\n",
        "        slip_prob = (self.probability) / 2\n",
        "        remain_prob = (1 - self.probability)\n",
        "\n",
        "        if action == 'norte' and x > 0 and self.map[x-1][y] != \"H\":\n",
        "            new_state = (x - 1, y)\n",
        "        elif action == 'sul' and x < len(self.map) - 1 and self.map[x+1][y] != \"H\":\n",
        "            new_state = (x + 1, y)\n",
        "        elif action == 'oeste' and y > 0 and self.map[x][y-1] != \"H\":\n",
        "            new_state = (x, y - 1)\n",
        "        elif action == 'leste' and y < len(self.map[0]) - 1 and self.map[x][y+1] != \"H\":\n",
        "            new_state = (x, y + 1)\n",
        "        else:\n",
        "            new_state = (x, y)\n",
        "\n",
        "        successors.append((new_state, remain_prob, -0.03))    # recomepensa negativa para achar o caminho mais rapido, pois ficar no mapa andando sem limite de tempo é ruim\n",
        "\n",
        "        if slip_prob > 0.0:\n",
        "            if action == 'norte' and y > 0 and self.map[x][y-1] != \"H\":\n",
        "                new_state = (x, y - 1)\n",
        "            elif action == 'sul' and y > 0 and self.map[x][y-1] != \"H\":\n",
        "                new_state = (x, y - 1)\n",
        "            elif action == 'oeste' and x > 0 and self.map[x-1][y] != \"H\":\n",
        "                new_state = (x - 1, y)\n",
        "            elif action == 'leste' and x > 0 and self.map[x-1][y] != \"H\":\n",
        "                new_state = (x - 1, y)\n",
        "            else:\n",
        "                new_state = (x, y)\n",
        "\n",
        "            successors.append((new_state, slip_prob, -0.03))    # recomepensa negativa para achar o caminho mais rapido, pois ficar no mapa andando sem limite de tempo é ruim\n",
        "\n",
        "            if action == 'norte' and y < len(self.map[0]) - 1 and self.map[x][y+1] != \"H\":\n",
        "                new_state = (x, y + 1)\n",
        "            elif action == 'sul' and y < len(self.map[0]) - 1 and self.map[x][y+1] != \"H\":\n",
        "                new_state = (x, y + 1)\n",
        "            elif action == 'oeste' and x < len(self.map) - 1 and self.map[x+1][y] != \"H\":\n",
        "                new_state = (x + 1, y)\n",
        "            elif action == 'leste' and x < len(self.map) - 1 and self.map[x+1][y] != \"H\":\n",
        "                new_state = (x + 1, y)\n",
        "            else:\n",
        "                new_state = (x, y)\n",
        "\n",
        "            successors.append((new_state, slip_prob, -0.03))    # recomepensa negativa para achar o caminho mais rapido, pois ficar no mapa andando sem limite de tempo é ruim\n",
        "\n",
        "        return successors"
      ],
      "metadata": {
        "id": "8Gg-QBLrXdEo"
      },
      "execution_count": null,
      "outputs": []
    },
    {
      "cell_type": "code",
      "source": [
        "def policyEvaluation(mdp, policy):\n",
        "    gama = 1\n",
        "    states = mdp.states()\n",
        "    V = {s: 0 for s in states}  # Inicializa o valor de todos os estados como 0\n",
        "    i = len(mdp.map) - 1\n",
        "    j = len(mdp.map[0]) - 1\n",
        "    V[(i,j)] = 1\n",
        "\n",
        "    while True:\n",
        "        delta = 0  # Utilizado para verificar a convergência\n",
        "\n",
        "        for state in states:\n",
        "            if mdp.isEnd(state):\n",
        "                continue\n",
        "\n",
        "            new_value = 0\n",
        "\n",
        "            for action in mdp.actions(state):\n",
        "                successors = mdp.succProbReward(state, action)\n",
        "                action_value = 0\n",
        "\n",
        "                for next_state, prob, reward in successors:\n",
        "                    action_value += prob * (reward + gama * V[next_state])\n",
        "\n",
        "                ac, stt = action\n",
        "                new_value += policy[state][ac] * action_value\n",
        "\n",
        "            delta = max(delta, abs(V[state] - new_value))\n",
        "            V[state] = new_value\n",
        "\n",
        "        if delta < 1e-6:  # Critério de convergência\n",
        "            break\n",
        "\n",
        "    return V\n",
        "\n",
        "################################################################################\n",
        "def valueIteration(mdp):\n",
        "    gama = 1\n",
        "    policy = []\n",
        "    V = {state: 0 for state in mdp.states()}\n",
        "    i = len(mdp.map) - 1\n",
        "    j = len(mdp.map[0]) - 1\n",
        "    V[(i,j)] = 1\n",
        "\n",
        "    # Definição do critério de parada\n",
        "    epsilon = 1e-6\n",
        "    delta = float('inf')\n",
        "\n",
        "    # Iteração até convergência\n",
        "    while delta > epsilon:\n",
        "        delta = 0\n",
        "\n",
        "        V_prev = V.copy()\n",
        "\n",
        "        # Atualização dos valores de estado\n",
        "        for state in mdp.states():\n",
        "            if not mdp.isEnd(state):\n",
        "                max_value = float('-inf')\n",
        "\n",
        "                # Cálculo do valor máximo entre as ações possíveis\n",
        "                for action, _ in mdp.actions(state):\n",
        "                    action_value = 0\n",
        "\n",
        "                    for next_state, probability, reward in mdp.succProbReward(state, action):\n",
        "                        action_value += probability * (reward + gama * V_prev[next_state])\n",
        "\n",
        "                    # Atualização do valor máximo\n",
        "                    max_value = max(max_value, action_value)\n",
        "\n",
        "                # Verificação da diferença entre o valor atual e o novo valor\n",
        "                delta = max(delta, abs(max_value - V[state]))\n",
        "\n",
        "                # Atualização do valor de estado\n",
        "                V[state] = max_value\n",
        "\n",
        "    state = (0,0)\n",
        "    while not mdp.isEnd(state):\n",
        "        V_max = float('-inf')\n",
        "        for action, next_state in mdp.actions(state):\n",
        "            if V[next_state] > V_max:\n",
        "                V_max = V[next_state]\n",
        "                path_action = action\n",
        "                path_state = next_state\n",
        "                state = next_state\n",
        "\n",
        "        policy.append((path_action, path_state))\n",
        "\n",
        "\n",
        "    return V, policy"
      ],
      "metadata": {
        "id": "2N4F_RL7XhY2"
      },
      "execution_count": null,
      "outputs": []
    },
    {
      "cell_type": "code",
      "source": [
        "m0 = [\"SFFF\",\n",
        "      \"FHFH\",\n",
        "      \"FFFH\",\n",
        "      \"HFFG\"]\n",
        "\n",
        "\n",
        "\n",
        "flp = FrozenLakeMDP(m0, 0)\n",
        "V, policy = valueIteration(flp)\n",
        "print(\"V: \", V)\n",
        "print(*policy, sep='\\n')"
      ],
      "metadata": {
        "colab": {
          "base_uri": "https://localhost:8080/"
        },
        "id": "m_FMXdHsUdDi",
        "outputId": "cbcbd88b-7e78-4b2c-849a-5f59290150cf"
      },
      "execution_count": null,
      "outputs": [
        {
          "output_type": "stream",
          "name": "stdout",
          "text": [
            "V:  {(0, 0): 0.8199999999999998, (0, 1): 0.8499999999999999, (0, 2): 0.8799999999999999, (0, 3): 0.8499999999999999, (1, 0): 0.8499999999999999, (1, 2): 0.9099999999999999, (2, 0): 0.8799999999999999, (2, 1): 0.9099999999999999, (2, 2): 0.94, (3, 1): 0.94, (3, 2): 0.97, (3, 3): 1}\n",
            "('sul', (1, 0))\n",
            "('sul', (2, 0))\n",
            "('leste', (2, 1))\n",
            "('sul', (3, 1))\n",
            "('leste', (3, 2))\n",
            "('leste', (3, 3))\n"
          ]
        }
      ]
    },
    {
      "cell_type": "code",
      "source": [
        "m0 = [\n",
        "    \"SFFF\",\n",
        "    \"FHFH\",\n",
        "    \"FFFH\",\n",
        "    \"HFFG\"\n",
        "]\n",
        "\n",
        "mdp = FrozenLakeMDP(m0, 0.2)\n",
        "\n",
        "policy = {\n",
        "    (0, 0): {'norte': 0.25, 'sul': 0.25, 'leste': 0.25, 'oeste': 0.25},\n",
        "    (0, 1): {'norte': 0.25, 'sul': 0.25, 'leste': 0.25, 'oeste': 0.25},\n",
        "    (0, 2): {'norte': 0.25, 'sul': 0.25, 'leste': 0.25, 'oeste': 0.25},\n",
        "    (0, 3): {'norte': 0.25, 'sul': 0.25, 'leste': 0.25, 'oeste': 0.25},\n",
        "    (1, 0): {'norte': 0.25, 'sul': 0.25, 'leste': 0.25, 'oeste': 0.25},\n",
        "    (1, 1): {'norte': 0.25, 'sul': 0.25, 'leste': 0.25, 'oeste': 0.25},\n",
        "    (1, 2): {'norte': 0.25, 'sul': 0.25, 'leste': 0.25, 'oeste': 0.25},\n",
        "    (1, 3): {'norte': 0.25, 'sul': 0.25, 'leste': 0.25, 'oeste': 0.25},\n",
        "    (2, 0): {'norte': 0.25, 'sul': 0.25, 'leste': 0.25, 'oeste': 0.25},\n",
        "    (2, 1): {'norte': 0.25, 'sul': 0.25, 'leste': 0.25, 'oeste': 0.25},\n",
        "    (2, 2): {'norte': 0.25, 'sul': 0.25, 'leste': 0.25, 'oeste': 0.25},\n",
        "    (2, 3): {'norte': 0.25, 'sul': 0.25, 'leste': 0.25, 'oeste': 0.25},\n",
        "    (3, 0): {'norte': 0.25, 'sul': 0.25, 'leste': 0.25, 'oeste': 0.25},\n",
        "    (3, 1): {'norte': 0.25, 'sul': 0.25, 'leste': 0.25, 'oeste': 0.25},\n",
        "    (3, 2): {'norte': 0.25, 'sul': 0.25, 'leste': 0.25, 'oeste': 0.25},\n",
        "    (3, 3): {'norte': 0.25, 'sul': 0.25, 'leste': 0.25, 'oeste': 0.25}\n",
        "}\n",
        "\n",
        "values = policyEvaluation(mdp, policy)\n",
        "\n",
        "for state, value in values.items():\n",
        "    print(\"State:\", state, \"Value:\", value)"
      ],
      "metadata": {
        "id": "gAO-Te__UpdE",
        "outputId": "0b755768-31c2-4fdb-f2f6-f0621a94e290",
        "colab": {
          "base_uri": "https://localhost:8080/"
        }
      },
      "execution_count": null,
      "outputs": [
        {
          "output_type": "stream",
          "name": "stdout",
          "text": [
            "State: (0, 0) Value: -0.029999999999563445\n",
            "State: (0, 1) Value: -0.029999999999563445\n",
            "State: (0, 2) Value: -0.0899971394602207\n",
            "State: (0, 3) Value: -0.009999999999999997\n",
            "State: (1, 0) Value: -0.029999999999563445\n",
            "State: (1, 2) Value: -0.029999999999563445\n",
            "State: (2, 0) Value: -0.029999999999563445\n",
            "State: (2, 1) Value: -0.0899971394602207\n",
            "State: (2, 2) Value: -0.0899971394602207\n",
            "State: (3, 1) Value: -0.029999999999563445\n",
            "State: (3, 2) Value: -0.0899971394602207\n",
            "State: (3, 3) Value: 1\n"
          ]
        }
      ]
    },
    {
      "cell_type": "markdown",
      "source": [
        "Por último, execute o algoritmo de *valueIteration* para uma mdp com *p = 0*. Observe o caminho tomado executando a política ótima obtida. Qual a relação desse caminho com o caminho mais curto obtido no item anterior?"
      ],
      "metadata": {
        "id": "8jCADoagXx00"
      }
    },
    {
      "cell_type": "markdown",
      "source": [
        "## Resposta:\n",
        "\n",
        "Quando executando o mdp com p = 0, a probabilidade de escorregar não existe, logo o problema se torna determinístico, o valor de cada estado será computado baseado na distância do estado ate a chegada, similar ao A*. Desta forma o caminho mínimo achado, será igual ao do exercício anterior."
      ],
      "metadata": {
        "id": "X33QbKg5bRKi"
      }
    }
  ]
}